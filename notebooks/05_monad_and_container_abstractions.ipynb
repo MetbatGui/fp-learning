{
  "cells": [
    {
      "cell_type": "markdown",
      "id": "bf0f1c58",
      "metadata": {},
      "source": [
        "# 📘 05강 — 모나드 & 컨테이너 추상화\n",
        "\n",
        "3강(FlatMap·Maybe/Optional), 4강(함수 합성 & 파이프라인)을 토대로 **에러·결측·검증**을 합성 가능한 체인으로 다룹니다.\n"
      ]
    },
    {
      "cell_type": "markdown",
      "id": "4ad91f30",
      "metadata": {},
      "source": [
        "---\n",
        "\n",
        "### 🎯 학습목표\n",
        "- `Functor(map)`와 `Monad(and_then/flatmap)`의 차이를 이해하고 직접 구현한다.\n",
        "- `Maybe(Just/Nothing)`와 `Result(Ok/Err)`를 **일관된 인터페이스**로 다룬다.\n",
        "- 검증 → 변환 → 집계로 이어지는 **합성 가능한 체인**을 구축한다.\n",
        "- 모나드 법칙(좌/우 항등, 결합법칙)을 작은 예제로 감각적으로 점검한다.\n",
        "\n",
        "### 🧩 키워드\n",
        "`Functor`, `Monad`, `map`, `flatmap`, `and_then`, `Kleisli composition`, `Maybe`, `Result`, `sequence`, `traverse`\n"
      ]
    },
    {
      "cell_type": "markdown",
      "id": "88d53459",
      "metadata": {},
      "source": [
        "---\n",
        "\n",
        "## 🧩 Functor — 값을 올려 태우기 (`map`)\n",
        "- 컨테이너 `F[T]` 위에 `T -> U` 함수를 올려 `F[U]`로 변환\n",
        "- 실패/결측 상태라면 **통과(no-op)**가 바람직\n"
      ]
    },
    {
      "cell_type": "code",
      "execution_count": 13,
      "id": "073d59d6",
      "metadata": {},
      "outputs": [
        {
          "data": {
            "text/plain": [
              "Box(value=15)"
            ]
          },
          "execution_count": 13,
          "metadata": {},
          "output_type": "execute_result"
        }
      ],
      "source": [
        "from __future__ import annotations\n",
        "from dataclasses import dataclass\n",
        "from typing import Protocol, Callable, Generic, TypeVar\n",
        "\n",
        "T = TypeVar(\"T\")\n",
        "U = TypeVar(\"U\")\n",
        "\n",
        "class Functor(Protocol[T]):\n",
        "    def map(self, f: Callable[[T], U]) -> \"Functor[U]\": ...\n",
        "\n",
        "# 개념 데모용 Box Functor\n",
        "@dataclass(frozen=True, slots=True)\n",
        "class Box(Generic[T]):\n",
        "    value: T\n",
        "    def map(self, f: Callable[[T], U]) -> \"Box[U]\":\n",
        "        return Box(f(self.value))\n",
        "\n",
        "Box(10).map(lambda x: x + 5)  # Box(15)\n"
      ]
    },
    {
      "cell_type": "markdown",
      "id": "36d5a498",
      "metadata": {},
      "source": [
        "---\n",
        "\n",
        "## 🧩 Monad — 안전한 연결 (`and_then` / `flatmap`)\n",
        "- `T -> F[U]`를 **연결(체이닝)** 하여 `F[T] -> F[U]`\n",
        "- 중간에 실패/결측이 나오면 **단락(short-circuit)**\n"
      ]
    },
    {
      "cell_type": "code",
      "execution_count": 14,
      "id": "bac28a2d",
      "metadata": {},
      "outputs": [],
      "source": [
        "from typing import Protocol, Callable\n",
        "\n",
        "class Monad(Functor[T], Protocol[T]):\n",
        "    def and_then(self, f: Callable[[T], \"Monad[U]\"]) -> \"Monad[U]\": ...\n"
      ]
    },
    {
      "cell_type": "markdown",
      "id": "a9169737",
      "metadata": {},
      "source": [
        "---\n",
        "\n",
        "## 🧩 Maybe — 결측을 표현 (Just / Nothing)\n",
        "- 값이 없을 수 있는 경우를 **명시적으로** 표현\n",
        "- `map`/`and_then`는 `Nothing`에서 **무시**되어 안전\n"
      ]
    },
    {
      "cell_type": "code",
      "execution_count": 15,
      "id": "ae815a18",
      "metadata": {},
      "outputs": [
        {
          "data": {
            "text/plain": [
              "Nothing"
            ]
          },
          "execution_count": 15,
          "metadata": {},
          "output_type": "execute_result"
        }
      ],
      "source": [
        "from __future__ import annotations\n",
        "from dataclasses import dataclass\n",
        "from typing import Any, Callable, Generic, TypeVar\n",
        "\n",
        "T = TypeVar(\"T\")\n",
        "U = TypeVar(\"U\")\n",
        "\n",
        "@dataclass(frozen=True, slots=True)\n",
        "class Just(Generic[T]):\n",
        "    value: T\n",
        "    def map(self, f: Callable[[T], U]) -> \"Just[U]\":\n",
        "        return Just(f(self.value))\n",
        "    def and_then(self, f: Callable[[T], \"Just[U] | Nothing[U]\"]) -> \"Just[U] | Nothing[U]\":\n",
        "        return f(self.value)\n",
        "    def get_or(self, default: T) -> T:\n",
        "        return self.value\n",
        "    def __repr__(self) -> str:\n",
        "        return f\"Just({self.value!r})\"\n",
        "\n",
        "class Nothing(Generic[T]):\n",
        "    __slots__ = ()\n",
        "    def map(self, f: Callable[[T], U]) -> \"Nothing[U]\":\n",
        "        return self\n",
        "    def and_then(self, f: Callable[[T], \"Just[U] | Nothing[U]\"]) -> \"Nothing[U]\":\n",
        "        return self\n",
        "    def get_or(self, default: T) -> T:\n",
        "        return default\n",
        "    def __repr__(self) -> str:\n",
        "        return \"Nothing\"\n",
        "\n",
        "NOTHING: Nothing[Any] = Nothing()\n",
        "\n",
        "def maybe(v: T | None) -> Just[T] | Nothing[T]:\n",
        "    return Just(v) if v is not None else NOTHING  # type: ignore[return-value]\n",
        "\n",
        "# 데모\n",
        "maybe(10).map(lambda x: x*2)         # Just(20)\n",
        "maybe(None).map(lambda x: x*2)       # Nothing\n"
      ]
    },
    {
      "cell_type": "markdown",
      "id": "4ba1d26a",
      "metadata": {},
      "source": [
        "---\n",
        "\n",
        "## 🧩 Result — 성공/실패를 분리 (Ok / Err)\n",
        "- 실패의 **이유(메시지/코드)**를 보존\n",
        "- `map`은 성공값만 변환, `map_err`는 실패값만 변환\n"
      ]
    },
    {
      "cell_type": "code",
      "execution_count": 16,
      "id": "4602a51d",
      "metadata": {},
      "outputs": [
        {
          "data": {
            "text/plain": [
              "Err('boom')"
            ]
          },
          "execution_count": 16,
          "metadata": {},
          "output_type": "execute_result"
        }
      ],
      "source": [
        "from __future__ import annotations\n",
        "from dataclasses import dataclass\n",
        "from typing import Any, Callable, Generic, TypeVar\n",
        "\n",
        "T = TypeVar(\"T\")\n",
        "U = TypeVar(\"U\")\n",
        "E = TypeVar(\"E\")\n",
        "\n",
        "@dataclass(frozen=True, slots=True)\n",
        "class Ok(Generic[T]):\n",
        "    value: T\n",
        "    def map(self, f: Callable[[T], U]) -> \"Ok[U]\":\n",
        "        return Ok(f(self.value))\n",
        "    def and_then(self, f: Callable[[T], \"Ok[U] | Err[E]\"]) -> \"Ok[U] | Err[E]\":\n",
        "        return f(self.value)\n",
        "    def get_or(self, default: T) -> T:\n",
        "        return self.value\n",
        "    def map_err(self, g: Callable[[E], Any]) -> \"Ok[T]\":\n",
        "        return self\n",
        "    def get_or_raise(self) -> T:\n",
        "        return self.value\n",
        "    def __repr__(self) -> str:\n",
        "        return f\"Ok({self.value!r})\"\n",
        "\n",
        "@dataclass(frozen=True, slots=True)\n",
        "class Err(Generic[E]):\n",
        "    error: E\n",
        "    def map(self, f: Callable[[Any], Any]) -> \"Err[E]\":\n",
        "        return self\n",
        "    def and_then(self, f: Callable[[Any], Any]) -> \"Err[E]\":\n",
        "        return self\n",
        "    def get_or(self, default: T) -> T:\n",
        "        return default\n",
        "    def map_err(self, g: Callable[[E], U]) -> \"Err[U]\":\n",
        "        return Err(g(self.error))\n",
        "    def get_or_raise(self) -> Any:\n",
        "        raise RuntimeError(self.error)\n",
        "    def __repr__(self) -> str:\n",
        "        return f\"Err({self.error!r})\"\n",
        "\n",
        "Result = Ok[T] | Err[E]\n",
        "\n",
        "def ok(v: T) -> Ok[T]: return Ok(v)\n",
        "def err(e: E) -> Err[E]: return Err(e)\n",
        "\n",
        "# 간단 데모\n",
        "ok(3).map(lambda x: x+1)           # Ok(4)\n",
        "err(\"boom\").map(lambda x: x+1)     # Err(\"boom\")\n"
      ]
    },
    {
      "cell_type": "markdown",
      "id": "eb3013ef",
      "metadata": {},
      "source": [
        "---\n",
        "\n",
        "## 🧪 모나드 법칙 — 감각적 점검 (Result)\n",
        "- 좌항등: `unit(x) >>= f == f(x)`\n",
        "- 우항등: `m >>= unit == m`\n",
        "- 결합법칙: `(m >>= f) >>= g == m >>= (λx. f(x) >>= g)`\n"
      ]
    },
    {
      "cell_type": "code",
      "execution_count": 17,
      "id": "cdea50d1",
      "metadata": {},
      "outputs": [
        {
          "name": "stdout",
          "output_type": "stream",
          "text": [
            "모나드 법칙 체크: OK\n"
          ]
        }
      ],
      "source": [
        "from typing import Callable\n",
        "\n",
        "def f(x: int) -> Result[int, str]: return ok(x + 1)\n",
        "def g(x: int) -> Result[int, str]: return ok(x * 2)\n",
        "unit: Callable[[int], Result[int, str]] = ok\n",
        "m: Result[int, str] = ok(7)\n",
        "\n",
        "# 좌항등\n",
        "assert unit(10).and_then(f) == f(10)\n",
        "# 우항등\n",
        "assert m.and_then(unit) == m\n",
        "# 결합법칙\n",
        "left  = m.and_then(f).and_then(g)\n",
        "right = m.and_then(lambda v: f(v).and_then(g))\n",
        "assert left == right\n",
        "\n",
        "print(\"모나드 법칙 체크: OK\")\n"
      ]
    },
    {
      "cell_type": "markdown",
      "id": "f45c5b1d",
      "metadata": {},
      "source": [
        "---\n",
        "\n",
        "## 🧩 Kleisli 합성 & 공통 유틸\n",
        "여러 `A -> Result[B]` 함수를 **하나의 화살표**로 합성합니다.\n"
      ]
    },
    {
      "cell_type": "code",
      "execution_count": 18,
      "id": "0a06aadc",
      "metadata": {},
      "outputs": [
        {
          "data": {
            "text/plain": [
              "Ok(0.023809523809523808)"
            ]
          },
          "execution_count": 18,
          "metadata": {},
          "output_type": "execute_result"
        }
      ],
      "source": [
        "from typing import TypeVar, Iterable, Callable\n",
        "\n",
        "A = TypeVar(\"A\")\n",
        "B = TypeVar(\"B\")\n",
        "C = TypeVar(\"C\")\n",
        "\n",
        "def compose_result(g: Callable[[B], Result[C, E]], f: Callable[[A], Result[B, E]]) -> Callable[[A], Result[C, E]]:\n",
        "    def h(x: A) -> Result[C, E]:\n",
        "        return f(x).and_then(g)\n",
        "    return h\n",
        "\n",
        "# 공통 유틸\n",
        "def parse_int(s: str) -> Result[int, str]:\n",
        "    try:\n",
        "        return ok(int(s))\n",
        "    except ValueError:\n",
        "        return err(f\"'{s}'는 int로 변환 불가\")\n",
        "\n",
        "def validate_positive(n: int) -> Result[int, str]:\n",
        "    return ok(n) if n > 0 else err(\"양수여야 합니다\")\n",
        "\n",
        "def reciprocal(n: int) -> Result[float, str]:\n",
        "    return ok(1.0 / n) if n != 0 else err(\"0으로 나눌 수 없습니다\")\n",
        "\n",
        "# 간단 체인\n",
        "ok(\" 42 \").map(str.strip).and_then(parse_int).and_then(validate_positive).and_then(reciprocal)\n"
      ]
    },
    {
      "cell_type": "markdown",
      "id": "7162ab9e",
      "metadata": {},
      "source": [
        "---\n",
        "\n",
        "## 🔧 도메인 파이프라인 — 가입 폼 예시\n",
        "검증 → 정규화 → 엔티티화 과정을 `and_then` 체인과 Kleisli로 모두 표현합니다.\n"
      ]
    },
    {
      "cell_type": "code",
      "execution_count": 19,
      "id": "888d1369",
      "metadata": {},
      "outputs": [
        {
          "name": "stdout",
          "output_type": "stream",
          "text": [
            "chain  : Ok(User(email='a@b.c', age=23))\n",
            "kleisli: Ok({'email': 'a@b.c', 'age': 23})\n",
            "bad1   : Err('이메일 형식 오류')\n",
            "bad2   : Err(\"누락 필드: ['email']\")\n"
          ]
        }
      ],
      "source": [
        "from dataclasses import dataclass\n",
        "from typing import Callable\n",
        "\n",
        "@dataclass(frozen=True, slots=True)\n",
        "class User:\n",
        "    email: str\n",
        "    age: int\n",
        "\n",
        "def require_keys(keys: set[str]) -> Callable[[dict[str, object]], Result[dict[str, object], str]]:\n",
        "    def _check(d: dict[str, object]) -> Result[dict[str, object], str]:\n",
        "        missing = [k for k in keys if k not in d]\n",
        "        return err(f\"누락 필드: {missing}\") if missing else ok(d)\n",
        "    return _check\n",
        "\n",
        "def normalize(d: dict[str, object]) -> Result[dict[str, object], str]:\n",
        "    try:\n",
        "        email = str(d[\"email\"]).strip().lower()\n",
        "        age = int(d[\"age\"])\n",
        "        return ok({\"email\": email, \"age\": age})\n",
        "    except Exception as e:\n",
        "        return err(f\"정규화 실패: {e}\")\n",
        "\n",
        "def validate_email(d: dict[str, object]) -> Result[dict[str, object], str]:\n",
        "    email = d[\"email\"]\n",
        "    return ok(d) if isinstance(email, str) and \"@\" in email else err(\"이메일 형식 오류\")\n",
        "\n",
        "def validate_age(d: dict[str, object]) -> Result[dict[str, object], str]:\n",
        "    age = d[\"age\"]\n",
        "    return ok(d) if isinstance(age, int) and (14 <= age <= 120) else err(\"나이 범위 오류\")\n",
        "\n",
        "def to_user(d: dict[str, object]) -> User:\n",
        "    return User(email=d[\"email\"], age=d[\"age\"])  # type: ignore[arg-type]\n",
        "\n",
        "# 체인\n",
        "def build_user_chain(payload: dict[str, object]) -> Result[User, str]:\n",
        "    return (\n",
        "        ok(payload)\n",
        "        .and_then(require_keys({\"email\", \"age\"}))\n",
        "        .and_then(normalize)\n",
        "        .and_then(validate_email)\n",
        "        .and_then(validate_age)\n",
        "        .map(to_user)\n",
        "    )\n",
        "\n",
        "# Kleisli\n",
        "pipeline = compose_result(validate_age,\n",
        "           compose_result(validate_email,\n",
        "           compose_result(normalize,\n",
        "                          require_keys({\"email\", \"age\"}))))\n",
        "\n",
        "def build_user_kleisli(payload: dict[str, object]) -> Result[dict[str, object], str]:\n",
        "    return pipeline(payload)\n",
        "\n",
        "print(\"chain  :\", build_user_chain({\"email\":\"  A@B.C \", \"age\":\"23\"}))\n",
        "print(\"kleisli:\", build_user_kleisli({\"email\":\"  A@B.C \", \"age\":\"23\"}))\n",
        "print(\"bad1   :\", build_user_chain({\"email\":\"no-at\",\"age\":20}))\n",
        "print(\"bad2   :\", build_user_chain({\"age\":20}))\n"
      ]
    },
    {
      "cell_type": "markdown",
      "id": "f38f40b3",
      "metadata": {},
      "source": [
        "---\n",
        "\n",
        "## 🔧 실습 — `sequence` / `traverse` (실행 가능 버전)\n",
        "여러 `Result`를 **한 번에** 다루는 일반화 패턴입니다.\n"
      ]
    },
    {
      "cell_type": "code",
      "execution_count": 25,
      "id": "05e96978",
      "metadata": {},
      "outputs": [
        {
          "name": "stdout",
          "output_type": "stream",
          "text": [
            "Ok([1, 2, 3])\n",
            "Err(\"'x'는 int로 변환 불가\")\n",
            "실습 구현: OK\n"
          ]
        }
      ],
      "source": [
        "from functools import reduce\n",
        "from typing import Iterable, Callable, TypeVar\n",
        "\n",
        "T = TypeVar(\"T\")\n",
        "U = TypeVar(\"U\")\n",
        "E = TypeVar(\"E\")\n",
        "A = TypeVar(\"A\")\n",
        "B = TypeVar(\"B\")\n",
        "\n",
        "def sequence_results(xs: Iterable[Result[T, E]]) -> Result[list[T], E]:\n",
        "    def merge(acc: Result[list[T], E], r: Result[T, E]) -> Result[list[T], E]:\n",
        "        if isinstance(acc, Err): return acc\n",
        "        if isinstance(r, Err):   return r\n",
        "        v = acc.value.copy()\n",
        "        v.append(r.value)\n",
        "        return ok(v)\n",
        "    return reduce(merge, xs, ok([]))\n",
        "\n",
        "def traverse_results(xs: Iterable[A], f: Callable[[A], Result[B, E]]) -> Result[list[B], E]:\n",
        "    return sequence_results(map(f, xs))\n",
        "\n",
        "# 데모\n",
        "data_good = [\"1\", \"2\", \"3\"]\n",
        "data_bad  = [\"1\", \"x\", \"3\"]\n",
        "print(traverse_results(data_good, parse_int))  # Ok([1, 2, 3])\n",
        "print(traverse_results(data_bad, parse_int))   # Err(\"'x'는 int로 변환 불가\")\n",
        "\n",
        "# 간단 확인\n",
        "assert sequence_results([ok(1), ok(2)]) == ok([1, 2])\n",
        "assert isinstance(sequence_results([ok(1), err(\"boom\")]), Err)\n",
        "assert traverse_results([\"10\",\"20\"], parse_int) == ok([10, 20])\n",
        "\n",
        "print(\"실습 구현: OK\")\n"
      ]
    },
    {
      "cell_type": "markdown",
      "id": "ed3864ae",
      "metadata": {},
      "source": [
        "## ⚡ 정리\n",
        "- **Functor/Monad**는 *함수를 안전하게 올려 태우고 연결*하는 공통 인터페이스를 제공합니다.\n",
        "- `Maybe`는 **없음(None)**을, `Result`는 **실패의 이유**까지 표현합니다.\n",
        "- `and_then` 체인은 **단락(short-circuit)**으로 복잡한 if/try 중첩을 제거합니다.\n",
        "- **Kleisli 합성**으로 `A -> Result[B] -> Result[C]`를 한 화살표로 합성합니다.\n",
        "- `sequence`/`traverse`는 **여러 개의 결과를 한 번에** 다룰 수 있게 일반화합니다.\n",
        "\n",
        "## 📝 Assignment\n",
        "1) `Result`에 **`apply` (Applicative)**를 추가하세요.  \n",
        "   - 시그니처: `apply(self, rf: Result[Callable[[T], U], E]) -> Result[U, E]`  \n",
        "   - 목적: `Result` 안의 함수를 `Result` 안의 값에 적용 (여러 검증을 병렬처럼 표현)\n",
        "2) `Maybe` ↔ `Result` 변환 유틸을 작성하세요.  \n",
        "   - `maybe_to_result(m: Just[T] | Nothing[T], error: E) -> Result[T, E]`  \n",
        "   - `result_to_maybe(r: Result[T, E]) -> Just[T] | Nothing[T]`\n",
        "3) `sequence`/`traverse`를 사용해 **폼 배열**(딕셔너리 리스트)을 일괄 검증하는 파이프라인을 만드세요.  \n",
        "   - 성공: `Ok[List[User]]`, 실패: 첫 에러로 `Err[str]`\n",
        "\n",
        "## 규칙\n",
        "- 함수는 **순수(pure)** 하게 작성하고, I/O는 다루지 않습니다.\n",
        "- `map`/`and_then`(= `flatmap`) 중심으로 합성하세요.\n",
        "- 불필요한 `try/except` 중첩, 과도한 명령형 분기 지양.\n",
        "- `@dataclass(frozen=True, slots=True)` + **타입힌트** 사용.\n",
        "- 표준 라이브러리만 사용합니다.\n"
      ]
    }
  ],
  "metadata": {
    "kernelspec": {
      "display_name": "Python 3",
      "language": "python",
      "name": "python3"
    },
    "language_info": {
      "file_extension": ".py",
      "mimetype": "text/x-python",
      "name": "python",
      "pygments_lexer": "ipython3",
      "version": "3.11"
    }
  },
  "nbformat": 4,
  "nbformat_minor": 5
}
