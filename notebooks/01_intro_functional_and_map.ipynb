{
 "cells": [
  {
   "cell_type": "markdown",
   "id": "17a56c8b",
   "metadata": {},
   "source": [
    "# 📘 함수형 프로그래밍 1강: 함수형 프로그래밍과 `map`\n",
    "\n",
    "---\n",
    "\n",
    "## 🎯 학습 목표\n",
    "- 함수형 프로그래밍의 핵심 철학 이해\n",
    "- 순수 함수(Pure Function)와 불변성(Immutability)의 의미 파악\n",
    "- `map` 함수를 통해 \"데이터를 변환(transform)\"하는 기본 패턴 학습\n",
    "\n",
    "---\n",
    "\n",
    "## 🧩 함수형 프로그래밍이란?\n",
    "- **데이터를 바꾸지 않고**  \n",
    "- **순수 함수(pure function)**를 조합하여  \n",
    "- **입력 → 출력**의 변환 과정을 명확하게 기술하는 프로그래밍 패러다임입니다.\n",
    "\n",
    "### 핵심 키워드\n",
    "1. **순수 함수**: 같은 입력 → 항상 같은 출력, 부작용(side-effect) 없음  \n",
    "2. **불변성**: 데이터는 수정하지 않고, 새로운 값을 생성  \n",
    "3. **합성**: 작은 함수를 합쳐서 큰 기능을 만든다  \n",
    "\n",
    "---\n",
    "\n",
    "## 📝 예시: 순수 함수 vs 비순수 함수"
   ]
  },
  {
   "cell_type": "code",
   "execution_count": 2,
   "id": "2bfe849f",
   "metadata": {},
   "outputs": [
    {
     "name": "stdout",
     "output_type": "stream",
     "text": [
      "5\n",
      "5\n",
      "2\n",
      "4\n"
     ]
    }
   ],
   "source": [
    "# 순수 함수 (Pure)\n",
    "def add(a, b):\n",
    "    return a + b\n",
    "\n",
    "print(add(2, 3))  # 5\n",
    "print(add(2, 3))  # 5  ← 항상 같은 결과\n",
    "\n",
    "# 비순수 함수 (Impure)\n",
    "x = 0\n",
    "def add_and_mutate(a):\n",
    "    global x\n",
    "    x += a\n",
    "    return x\n",
    "\n",
    "print(add_and_mutate(2))  # 2\n",
    "print(add_and_mutate(2))  # 4 ← 실행마다 결과가 달라짐\n"
   ]
  },
  {
   "cell_type": "markdown",
   "id": "b19bb960",
   "metadata": {},
   "source": [
    "---\n",
    "\n",
    "## 🔧 map 함수 소개\n",
    "\n",
    "파이썬의 내장 함수 `map`은 **리스트 등 반복 가능한(iterable) 자료**의 각 원소에 함수를 적용해 **새로운 결과 시퀀스**를 만들어냅니다.\n"
   ]
  },
  {
   "cell_type": "code",
   "execution_count": 3,
   "id": "6b011f50",
   "metadata": {},
   "outputs": [
    {
     "name": "stdout",
     "output_type": "stream",
     "text": [
      "[1, 4, 9, 16, 25]\n"
     ]
    }
   ],
   "source": [
    "# 기본 문법\n",
    "# map(function, iterable)\n",
    "\n",
    "# 예시\n",
    "numbers = [1, 2, 3, 4, 5]\n",
    "squared = map(lambda x: x * x, numbers)\n",
    "print(list(squared))  # [1, 4, 9, 16, 25]"
   ]
  },
  {
   "cell_type": "markdown",
   "id": "ea2bdf6f",
   "metadata": {},
   "source": [
    "---\n",
    "\n",
    "## 🧪 실습: map을 이용한 변환"
   ]
  },
  {
   "cell_type": "code",
   "execution_count": 4,
   "id": "c5bb4f11",
   "metadata": {},
   "outputs": [
    {
     "name": "stdout",
     "output_type": "stream",
     "text": [
      "['ALICE', 'BOB', 'CHARLIE']\n",
      "[5, 3, 7]\n"
     ]
    }
   ],
   "source": [
    "names = [\"alice\", \"bob\", \"charlie\"]\n",
    "\n",
    "# 모든 이름을 대문자로 바꾸기\n",
    "upper_names = map(str.upper, names)\n",
    "print(list(upper_names))  # ['ALICE', 'BOB', 'CHARLIE']\n",
    "\n",
    "# 문자열 길이 구하기\n",
    "lengths = map(len, names)\n",
    "print(list(lengths))  # [5, 3, 7]"
   ]
  },
  {
   "cell_type": "markdown",
   "id": "bb2c7455",
   "metadata": {},
   "source": [
    "---\n",
    "\n",
    "## ⚡ 정리\n",
    "\n",
    "* 함수형은 **데이터 변환**을 중심으로 사고한다.\n",
    "* `map`은 리스트 변환의 가장 기본적인 도구다.\n",
    "* 순수성, 불변성, 합성을 지키면 코드가 **예측 가능**하고 **재사용성**이 높아진다.\n",
    "\n",
    "---\n"
   ]
  }
 ],
 "metadata": {
  "kernelspec": {
   "display_name": ".venv",
   "language": "python",
   "name": "python3"
  },
  "language_info": {
   "codemirror_mode": {
    "name": "ipython",
    "version": 3
   },
   "file_extension": ".py",
   "mimetype": "text/x-python",
   "name": "python",
   "nbconvert_exporter": "python",
   "pygments_lexer": "ipython3",
   "version": "3.13.5"
  }
 },
 "nbformat": 4,
 "nbformat_minor": 5
}
